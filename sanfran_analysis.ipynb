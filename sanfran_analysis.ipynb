{
 "cells": [
  {
   "cell_type": "markdown",
   "metadata": {},
   "source": [
    "# Vehicle Theft is rampant in the Ingilside District of San Francisco During Summer Months"
   ]
  },
  {
   "cell_type": "markdown",
   "metadata": {},
   "source": [
    "In the San Francisco Incidents Summer 2014 dataset a total of 28993 crime incidents were reported. In this analysis I wanted to dig deeper into vehicle thefts specifically and answer the following questions:\n",
    "\n",
    "* What category of incidents occurs the most in San Francisco?\n",
    "* Which neighborhoods in San Fransisco experience the most crime incidents?\n",
    "* How many vehicle thefts were reported in San Francisco?\n",
    "* How does vehicle theft vary by hour of the day?\n",
    "* What types of vehicles were most commonly stolen ?\n",
    "* Which neighborhoods in San Fransisco experience the most vehicle thefts?\n",
    "\n",
    "You can find the code [here](https://github.com/wmdoble/sanfran_crime_incidents_viz/blob/master/sanfran_data.ipynb)"
   ]
  },
  {
   "cell_type": "markdown",
   "metadata": {},
   "source": [
    "## Data Exploration"
   ]
  },
  {
   "cell_type": "markdown",
   "metadata": {},
   "source": [
    "To get started, the first thing I did was to inspect the data for completeness. Luckily, there were no missing values. Using R in Jupyter notebook, I imported the dataset, then invoked the summary command on the dataset in order to get a high level understanding of the data. From the summary output, I determined the following:\n",
    "* Larceny/theft outnumbers all other incidents by at least three times.\n",
    "* The most common type of incident is grand theft from locked automobile followed by stolen vehicle\n",
    "* Most incidents occur in the Southern police disctrict\n",
    "* There was a relatively large number of incidents reported in June.\n",
    "* The total number of vehicle theft incidents was 1966.\n",
    "\n",
    "Based on this initial finding, vehicle related incidents piqued my interest and I decided to dive deeper into actual vehicle thefts. In order to focus specifically on vehicle thefts, first, I created a subset from the main dataset consisting only of rows with Vehicle Theft incidents, then transformed and analyzed it as described in the following sections."
   ]
  },
  {
   "cell_type": "markdown",
   "metadata": {},
   "source": [
    "### Understanding Hourly Trends in Vehicle Theft Incidents"
   ]
  },
  {
   "cell_type": "markdown",
   "metadata": {},
   "source": [
    "I decided to plot a time series graph to detetermine vehicle theft patterns on any given day of the week within a 24 hour period. First I transformed date and time columns to correspond to date types. Then I plotted a time series graph with time vs total count of incidents during that time for each day of the week as shown in the following diagram:"
   ]
  },
  {
   "cell_type": "markdown",
   "metadata": {},
   "source": [
    "![](https://github.com/wmdoble/sanfran_crime_incidents_viz/blob/master/time_series.png)"
   ]
  },
  {
   "cell_type": "markdown",
   "metadata": {},
   "source": [
    "According  to the above time series graph, you can see that:\n",
    "* Vehicle theft incidents typically take place between 4 pm and 12 midnight.\n",
    "* The most vehicle theft incidents occured on Thursday between 4:00 pm and 7:00 pm.  \n",
    "* The fewest number of vehicle theft incidents took place around 4:00 am. \n"
   ]
  },
  {
   "cell_type": "markdown",
   "metadata": {},
   "source": [
    "###  Exploring Types of Monthly Vehicle Theft Incidents"
   ]
  },
  {
   "cell_type": "markdown",
   "metadata": {},
   "source": [
    "The purpose of this analysis was to determine types of vehicle incidents on any given month in the summer. In this step, I decided to create a  bar chart to capture this information. To accomplish this, first, I created a new column for Month, then I extracted the month from the Date column. Next, I plotted a stacked bar chart showing counts for each vehicle incident type for each month as shown in the following diagram:"
   ]
  },
  {
   "cell_type": "markdown",
   "metadata": {},
   "source": [
    "![](https://github.com/wmdoble/sanfran_crime_incidents_viz/blob/master/monthly.png)"
   ]
  },
  {
   "cell_type": "markdown",
   "metadata": {},
   "source": [
    "According the above bar chart, you can see that:\n",
    "* The most commonly stolen vehicle type is the automobile\n",
    "* The most number of vehicle theft incidents occured in June\n",
    "* The number of vehicle thefts remained steady in July and August.\n",
    "* There is no significant change in the number of vehich theft incidents across the three summer months."
   ]
  },
  {
   "cell_type": "markdown",
   "metadata": {},
   "source": [
    "### Determing Vehicle Theft Incidents by Neighborhood"
   ]
  },
  {
   "cell_type": "markdown",
   "metadata": {},
   "source": [
    "In this analysis, I wanted to determine which neighborhoods in  San Francisco have the highest vehicle theft related incidents during the summer months. To accomplish this analysis, I plotted side-by-side bar charts for each police disctrict showing total counts of vehicle theft incidents for each day of the week as shown in the following diagram:"
   ]
  },
  {
   "cell_type": "markdown",
   "metadata": {},
   "source": [
    "![](https://github.com/wmdoble/sanfran_crime_incidents_viz/blob/master/neighborhood.png)"
   ]
  },
  {
   "cell_type": "markdown",
   "metadata": {},
   "source": [
    "According to the barchart, you can see that:\n",
    "* By far, the most vehicle theft incidents occured in Ingleside\n",
    "* The worst day of the week for vehicle theft incidents is Friday\n",
    "* The safest police district is Tenderloin\n",
    "* There are relatively fewere vehicle theft incidentd reported on Tuesday and Saturday compared to other days of the week.\n"
   ]
  },
  {
   "cell_type": "markdown",
   "metadata": {},
   "source": [
    "## Conclusion\n",
    "\n",
    "According to my analysis, you can see that  Vehicle theft incidents vary depending on neighbord, time of day, and type of vehicle. The number of vehicle theft incidents holds failly steady in the summer months. In conclusion, do not live in Ingleside, if you want to keep your car."
   ]
  }
 ],
 "metadata": {
  "kernelspec": {
   "display_name": "R",
   "language": "R",
   "name": "ir"
  },
  "language_info": {
   "codemirror_mode": "r",
   "file_extension": ".r",
   "mimetype": "text/x-r-source",
   "name": "R",
   "pygments_lexer": "r",
   "version": "3.1.3"
  }
 },
 "nbformat": 4,
 "nbformat_minor": 0
}
