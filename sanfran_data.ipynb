{
 "cells": [
  {
   "cell_type": "markdown",
   "metadata": {},
   "source": [
    "# Crime Analytics: Visualization of San Francisco Incident Report for Summer 2014"
   ]
  },
  {
   "cell_type": "code",
   "execution_count": 4,
   "metadata": {
    "collapsed": true
   },
   "outputs": [],
   "source": [
    "sfdata <- read.table(\"sanfrancisco_incidents_summer_2014.csv\", header = TRUE, sep = \",\")"
   ]
  },
  {
   "cell_type": "code",
   "execution_count": 78,
   "metadata": {
    "collapsed": false
   },
   "outputs": [
    {
     "data": {
      "text/html": [
       "28993"
      ],
      "text/latex": [
       "28993"
      ],
      "text/markdown": [
       "28993"
      ],
      "text/plain": [
       "[1] 28993"
      ]
     },
     "execution_count": 78,
     "metadata": {},
     "output_type": "execute_result"
    }
   ],
   "source": [
    "nrow(sfdata)"
   ]
  },
  {
   "cell_type": "code",
   "execution_count": 5,
   "metadata": {
    "collapsed": false,
    "scrolled": true
   },
   "outputs": [
    {
     "data": {
      "text/html": [
       "<table>\n",
       "<thead><tr><th></th><th scope=col>IncidntNum</th><th scope=col>Category</th><th scope=col>Descript</th><th scope=col>DayOfWeek</th><th scope=col>Date</th><th scope=col>Time</th><th scope=col>PdDistrict</th><th scope=col>Resolution</th><th scope=col>Address</th><th scope=col>X</th><th scope=col>Y</th><th scope=col>Location</th><th scope=col>PdId</th></tr></thead>\n",
       "<tbody>\n",
       "\t<tr><th scope=row>1</th><td>140734311</td><td>ARSON</td><td>ARSON OF A VEHICLE</td><td>Sunday</td><td>08/31/2014</td><td>23:50</td><td>BAYVIEW</td><td>NONE</td><td>LOOMIS ST / INDUSTRIAL ST</td><td>-122.4056</td><td>37.73832</td><td>(37.7383221869053, -122.405646994567)</td><td>1.407343e+13</td></tr>\n",
       "\t<tr><th scope=row>2</th><td>140736317</td><td>NON-CRIMINAL</td><td>LOST PROPERTY</td><td>Sunday</td><td>08/31/2014</td><td>23:45</td><td>MISSION</td><td>NONE</td><td>400 Block of CASTRO ST</td><td>-122.435</td><td>37.76177</td><td>(37.7617677182954, -122.435012093789)</td><td>1.407363e+13</td></tr>\n",
       "\t<tr><th scope=row>3</th><td>146177923</td><td>LARCENY/THEFT</td><td>GRAND THEFT FROM LOCKED AUTO</td><td>Sunday</td><td>08/31/2014</td><td>23:30</td><td>SOUTHERN</td><td>NONE</td><td>1000 Block of MISSION ST</td><td>-122.4098</td><td>37.78004</td><td>(37.7800356268394, -122.409795194505)</td><td>1.461779e+13</td></tr>\n",
       "\t<tr><th scope=row>4</th><td>146177531</td><td>LARCENY/THEFT</td><td>GRAND THEFT FROM LOCKED AUTO</td><td>Sunday</td><td>08/31/2014</td><td>23:30</td><td>RICHMOND</td><td>NONE</td><td>FULTON ST / 26TH AV</td><td>-122.4853</td><td>37.77252</td><td>(37.7725176473142, -122.485262988324)</td><td>1.461775e+13</td></tr>\n",
       "\t<tr><th scope=row>5</th><td>140734220</td><td>NON-CRIMINAL</td><td>FOUND PROPERTY</td><td>Sunday</td><td>08/31/2014</td><td>23:23</td><td>RICHMOND</td><td>NONE</td><td>800 Block of LA PLAYA ST</td><td>-122.5099</td><td>37.77231</td><td>(37.7723131976814, -122.509895418239)</td><td>1.407342e+13</td></tr>\n",
       "\t<tr><th scope=row>6</th><td>140734349</td><td>DRUG/NARCOTIC</td><td>POSSESSION OF MARIJUANA</td><td>Sunday</td><td>08/31/2014</td><td>23:13</td><td>SOUTHERN</td><td>ARREST, BOOKED</td><td>11TH ST / MINNA ST</td><td>-122.4166</td><td>37.77391</td><td>(37.773907074489, -122.416578493475)</td><td>1.407343e+13</td></tr>\n",
       "</tbody>\n",
       "</table>\n"
      ],
      "text/latex": [
       "\\begin{tabular}{r|lllllllllllll}\n",
       "  & IncidntNum & Category & Descript & DayOfWeek & Date & Time & PdDistrict & Resolution & Address & X & Y & Location & PdId\\\\\n",
       "\\hline\n",
       "\t1 & 140734311 & ARSON & ARSON OF A VEHICLE & Sunday & 08/31/2014 & 23:50 & BAYVIEW & NONE & LOOMIS ST / INDUSTRIAL ST & -122.4056 & 37.73832 & (37.7383221869053, -122.405646994567) & 1.407343e+13\\\\\n",
       "\t2 & 140736317 & NON-CRIMINAL & LOST PROPERTY & Sunday & 08/31/2014 & 23:45 & MISSION & NONE & 400 Block of CASTRO ST & -122.435 & 37.76177 & (37.7617677182954, -122.435012093789) & 1.407363e+13\\\\\n",
       "\t3 & 146177923 & LARCENY/THEFT & GRAND THEFT FROM LOCKED AUTO & Sunday & 08/31/2014 & 23:30 & SOUTHERN & NONE & 1000 Block of MISSION ST & -122.4098 & 37.78004 & (37.7800356268394, -122.409795194505) & 1.461779e+13\\\\\n",
       "\t4 & 146177531 & LARCENY/THEFT & GRAND THEFT FROM LOCKED AUTO & Sunday & 08/31/2014 & 23:30 & RICHMOND & NONE & FULTON ST / 26TH AV & -122.4853 & 37.77252 & (37.7725176473142, -122.485262988324) & 1.461775e+13\\\\\n",
       "\t5 & 140734220 & NON-CRIMINAL & FOUND PROPERTY & Sunday & 08/31/2014 & 23:23 & RICHMOND & NONE & 800 Block of LA PLAYA ST & -122.5099 & 37.77231 & (37.7723131976814, -122.509895418239) & 1.407342e+13\\\\\n",
       "\t6 & 140734349 & DRUG/NARCOTIC & POSSESSION OF MARIJUANA & Sunday & 08/31/2014 & 23:13 & SOUTHERN & ARREST, BOOKED & 11TH ST / MINNA ST & -122.4166 & 37.77391 & (37.773907074489, -122.416578493475) & 1.407343e+13\\\\\n",
       "\\end{tabular}\n"
      ],
      "text/plain": [
       "  IncidntNum      Category                     Descript DayOfWeek       Date\n",
       "1  140734311         ARSON           ARSON OF A VEHICLE    Sunday 08/31/2014\n",
       "2  140736317  NON-CRIMINAL                LOST PROPERTY    Sunday 08/31/2014\n",
       "3  146177923 LARCENY/THEFT GRAND THEFT FROM LOCKED AUTO    Sunday 08/31/2014\n",
       "4  146177531 LARCENY/THEFT GRAND THEFT FROM LOCKED AUTO    Sunday 08/31/2014\n",
       "5  140734220  NON-CRIMINAL               FOUND PROPERTY    Sunday 08/31/2014\n",
       "6  140734349 DRUG/NARCOTIC      POSSESSION OF MARIJUANA    Sunday 08/31/2014\n",
       "   Time PdDistrict     Resolution                   Address         X        Y\n",
       "1 23:50    BAYVIEW           NONE LOOMIS ST / INDUSTRIAL ST -122.4056 37.73832\n",
       "2 23:45    MISSION           NONE    400 Block of CASTRO ST -122.4350 37.76177\n",
       "3 23:30   SOUTHERN           NONE  1000 Block of MISSION ST -122.4098 37.78004\n",
       "4 23:30   RICHMOND           NONE       FULTON ST / 26TH AV -122.4853 37.77252\n",
       "5 23:23   RICHMOND           NONE  800 Block of LA PLAYA ST -122.5099 37.77231\n",
       "6 23:13   SOUTHERN ARREST, BOOKED        11TH ST / MINNA ST -122.4166 37.77391\n",
       "                               Location         PdId\n",
       "1 (37.7383221869053, -122.405646994567) 1.407343e+13\n",
       "2 (37.7617677182954, -122.435012093789) 1.407363e+13\n",
       "3 (37.7800356268394, -122.409795194505) 1.461779e+13\n",
       "4 (37.7725176473142, -122.485262988324) 1.461775e+13\n",
       "5 (37.7723131976814, -122.509895418239) 1.407342e+13\n",
       "6  (37.773907074489, -122.416578493475) 1.407343e+13"
      ]
     },
     "execution_count": 5,
     "metadata": {},
     "output_type": "execute_result"
    }
   ],
   "source": [
    "head(sfdata)"
   ]
  },
  {
   "cell_type": "code",
   "execution_count": 6,
   "metadata": {
    "collapsed": false,
    "scrolled": true
   },
   "outputs": [
    {
     "data": {
      "text/plain": [
       "   IncidntNum                  Category                            Descript    \n",
       " Min.   : 10284385   LARCENY/THEFT :9466   GRAND THEFT FROM LOCKED AUTO: 3766  \n",
       " 1st Qu.:140545607   OTHER OFFENSES:3567   STOLEN AUTOMOBILE           : 1350  \n",
       " Median :140632022   NON-CRIMINAL  :3023   LOST PROPERTY               : 1202  \n",
       " Mean   :142017280   ASSAULT       :2882   PETTY THEFT OF PROPERTY     : 1125  \n",
       " 3rd Qu.:140719664   VEHICLE THEFT :1966   WARRANT ARREST              :  980  \n",
       " Max.   :990367398   WARRANTS      :1782   PETTY THEFT FROM LOCKED AUTO:  955  \n",
       "                     (Other)       :6307   (Other)                     :19615  \n",
       "     DayOfWeek            Date            Time           PdDistrict  \n",
       " Friday   :4451   06/28/2014:  410   12:00  :  784   SOUTHERN :5739  \n",
       " Monday   :4005   08/09/2014:  410   00:01  :  661   MISSION  :3700  \n",
       " Saturday :4319   08/08/2014:  403   18:00  :  649   NORTHERN :3589  \n",
       " Sunday   :4218   06/29/2014:  397   19:00  :  621   CENTRAL  :3513  \n",
       " Thursday :3968   08/29/2014:  388   17:00  :  594   BAYVIEW  :2725  \n",
       " Tuesday  :3930   06/04/2014:  380   20:00  :  586   INGLESIDE:2378  \n",
       " Wednesday:4102   (Other)   :26605   (Other):25098   (Other)  :7349  \n",
       "           Resolution                        Address            X         \n",
       " NONE           :19139   800 Block of BRYANT ST  :  948   Min.   :-122.5  \n",
       " ARREST, BOOKED : 6502   800 Block of MARKET ST  :  288   1st Qu.:-122.4  \n",
       " ARREST, CITED  : 1419   900 Block of POTRERO AV :  230   Median :-122.4  \n",
       " LOCATED        : 1042   1000 Block of POTRERO AV:  199   Mean   :-122.4  \n",
       " UNFOUNDED      :  260   2000 Block of MISSION ST:  149   3rd Qu.:-122.4  \n",
       " JUVENILE BOOKED:  163   16TH ST / MISSION ST    :  116   Max.   :-122.4  \n",
       " (Other)        :  468   (Other)                 :27063                   \n",
       "       Y                                          Location    \n",
       " Min.   :37.71   (37.775420706711, -122.403404791479) :  940  \n",
       " 1st Qu.:37.76   (37.7571580431915, -122.406604919508):  224  \n",
       " Median :37.78   (37.7564864109309, -122.406539115148):  196  \n",
       " Mean   :37.77   (37.7650501214668, -122.419671780296):  152  \n",
       " 3rd Qu.:37.79   (37.7841893501425, -122.407633520742):  150  \n",
       " Max.   :37.82   (37.7285280627465, -122.475647460786):  102  \n",
       "                 (Other)                              :27229  \n",
       "      PdId          \n",
       " Min.   :1.028e+12  \n",
       " 1st Qu.:1.405e+13  \n",
       " Median :1.406e+13  \n",
       " Mean   :1.420e+13  \n",
       " 3rd Qu.:1.407e+13  \n",
       " Max.   :9.904e+13  \n",
       "                    "
      ]
     },
     "execution_count": 6,
     "metadata": {},
     "output_type": "execute_result"
    }
   ],
   "source": [
    "summary(sfdata)"
   ]
  },
  {
   "cell_type": "markdown",
   "metadata": {},
   "source": [
    "#### VEHICLE THREAT - Based on initial Analysis Vehicle Theft trends seem interesting."
   ]
  },
  {
   "cell_type": "code",
   "execution_count": 8,
   "metadata": {
    "collapsed": true
   },
   "outputs": [],
   "source": [
    "vehicle_theft_data <- subset(sfdata, Category == 'VEHICLE THEFT')"
   ]
  },
  {
   "cell_type": "code",
   "execution_count": 9,
   "metadata": {
    "collapsed": false,
    "scrolled": false
   },
   "outputs": [
    {
     "data": {
      "text/html": [
       "<table>\n",
       "<thead><tr><th></th><th scope=col>IncidntNum</th><th scope=col>Category</th><th scope=col>Descript</th><th scope=col>DayOfWeek</th><th scope=col>Date</th><th scope=col>Time</th><th scope=col>PdDistrict</th><th scope=col>Resolution</th><th scope=col>Address</th><th scope=col>X</th><th scope=col>Y</th><th scope=col>Location</th><th scope=col>PdId</th></tr></thead>\n",
       "<tbody>\n",
       "\t<tr><th scope=row>11</th><td>140738711</td><td>VEHICLE THEFT</td><td>STOLEN TRUCK</td><td>Sunday</td><td>08/31/2014</td><td>23:00</td><td>CENTRAL</td><td>NONE</td><td>800 Block of POST ST</td><td>-122.4158</td><td>37.78729</td><td>(37.7872932910877, -122.415821891164)</td><td>1.407387e+13</td></tr>\n",
       "\t<tr><th scope=row>14</th><td>140735604</td><td>VEHICLE THEFT</td><td>STOLEN AUTOMOBILE</td><td>Sunday</td><td>08/31/2014</td><td>23:00</td><td>MISSION</td><td>NONE</td><td>GUERRERO ST / CESAR CHAVEZ ST</td><td>-122.4225</td><td>37.74801</td><td>(37.7480144418715, -122.42249041028)</td><td>1.407356e+13</td></tr>\n",
       "\t<tr><th scope=row>15</th><td>140738147</td><td>VEHICLE THEFT</td><td>STOLEN MOTORCYCLE</td><td>Sunday</td><td>08/31/2014</td><td>23:00</td><td>INGLESIDE</td><td>NONE</td><td>1400 Block of DOLORES ST</td><td>-122.4245</td><td>37.74665</td><td>(37.7466488718366, -122.424497944857)</td><td>1.407381e+13</td></tr>\n",
       "\t<tr><th scope=row>30</th><td>140736624</td><td>VEHICLE THEFT</td><td>STOLEN AUTOMOBILE</td><td>Sunday</td><td>08/31/2014</td><td>22:00</td><td>INGLESIDE</td><td>NONE</td><td>400 Block of DELTA ST</td><td>-122.4091</td><td>37.71415</td><td>(37.714150230756, -122.40911287775)</td><td>1.407366e+13</td></tr>\n",
       "\t<tr><th scope=row>37</th><td>140735375</td><td>VEHICLE THEFT</td><td>STOLEN AUTOMOBILE</td><td>Sunday</td><td>08/31/2014</td><td>22:00</td><td>CENTRAL</td><td>NONE</td><td>PINE ST / JONES ST</td><td>-122.4139</td><td>37.79046</td><td>(37.7904619656257, -122.413918209236)</td><td>1.407354e+13</td></tr>\n",
       "\t<tr><th scope=row>92</th><td>140734775</td><td>VEHICLE THEFT</td><td>STOLEN AUTOMOBILE</td><td>Sunday</td><td>08/31/2014</td><td>19:00</td><td>TARAVAL</td><td>NONE</td><td>1600 Block of 41ST AV</td><td>-122.5003</td><td>37.75597</td><td>(37.7559697150676, -122.500306742828)</td><td>1.407348e+13</td></tr>\n",
       "</tbody>\n",
       "</table>\n"
      ],
      "text/latex": [
       "\\begin{tabular}{r|lllllllllllll}\n",
       "  & IncidntNum & Category & Descript & DayOfWeek & Date & Time & PdDistrict & Resolution & Address & X & Y & Location & PdId\\\\\n",
       "\\hline\n",
       "\t11 & 140738711 & VEHICLE THEFT & STOLEN TRUCK & Sunday & 08/31/2014 & 23:00 & CENTRAL & NONE & 800 Block of POST ST & -122.4158 & 37.78729 & (37.7872932910877, -122.415821891164) & 1.407387e+13\\\\\n",
       "\t14 & 140735604 & VEHICLE THEFT & STOLEN AUTOMOBILE & Sunday & 08/31/2014 & 23:00 & MISSION & NONE & GUERRERO ST / CESAR CHAVEZ ST & -122.4225 & 37.74801 & (37.7480144418715, -122.42249041028) & 1.407356e+13\\\\\n",
       "\t15 & 140738147 & VEHICLE THEFT & STOLEN MOTORCYCLE & Sunday & 08/31/2014 & 23:00 & INGLESIDE & NONE & 1400 Block of DOLORES ST & -122.4245 & 37.74665 & (37.7466488718366, -122.424497944857) & 1.407381e+13\\\\\n",
       "\t30 & 140736624 & VEHICLE THEFT & STOLEN AUTOMOBILE & Sunday & 08/31/2014 & 22:00 & INGLESIDE & NONE & 400 Block of DELTA ST & -122.4091 & 37.71415 & (37.714150230756, -122.40911287775) & 1.407366e+13\\\\\n",
       "\t37 & 140735375 & VEHICLE THEFT & STOLEN AUTOMOBILE & Sunday & 08/31/2014 & 22:00 & CENTRAL & NONE & PINE ST / JONES ST & -122.4139 & 37.79046 & (37.7904619656257, -122.413918209236) & 1.407354e+13\\\\\n",
       "\t92 & 140734775 & VEHICLE THEFT & STOLEN AUTOMOBILE & Sunday & 08/31/2014 & 19:00 & TARAVAL & NONE & 1600 Block of 41ST AV & -122.5003 & 37.75597 & (37.7559697150676, -122.500306742828) & 1.407348e+13\\\\\n",
       "\\end{tabular}\n"
      ],
      "text/plain": [
       "   IncidntNum      Category          Descript DayOfWeek       Date  Time\n",
       "11  140738711 VEHICLE THEFT      STOLEN TRUCK    Sunday 08/31/2014 23:00\n",
       "14  140735604 VEHICLE THEFT STOLEN AUTOMOBILE    Sunday 08/31/2014 23:00\n",
       "15  140738147 VEHICLE THEFT STOLEN MOTORCYCLE    Sunday 08/31/2014 23:00\n",
       "30  140736624 VEHICLE THEFT STOLEN AUTOMOBILE    Sunday 08/31/2014 22:00\n",
       "37  140735375 VEHICLE THEFT STOLEN AUTOMOBILE    Sunday 08/31/2014 22:00\n",
       "92  140734775 VEHICLE THEFT STOLEN AUTOMOBILE    Sunday 08/31/2014 19:00\n",
       "   PdDistrict Resolution                       Address         X        Y\n",
       "11    CENTRAL       NONE          800 Block of POST ST -122.4158 37.78729\n",
       "14    MISSION       NONE GUERRERO ST / CESAR CHAVEZ ST -122.4225 37.74801\n",
       "15  INGLESIDE       NONE      1400 Block of DOLORES ST -122.4245 37.74665\n",
       "30  INGLESIDE       NONE         400 Block of DELTA ST -122.4091 37.71415\n",
       "37    CENTRAL       NONE            PINE ST / JONES ST -122.4139 37.79046\n",
       "92    TARAVAL       NONE         1600 Block of 41ST AV -122.5003 37.75597\n",
       "                                Location         PdId\n",
       "11 (37.7872932910877, -122.415821891164) 1.407387e+13\n",
       "14  (37.7480144418715, -122.42249041028) 1.407356e+13\n",
       "15 (37.7466488718366, -122.424497944857) 1.407381e+13\n",
       "30   (37.714150230756, -122.40911287775) 1.407366e+13\n",
       "37 (37.7904619656257, -122.413918209236) 1.407354e+13\n",
       "92 (37.7559697150676, -122.500306742828) 1.407348e+13"
      ]
     },
     "execution_count": 9,
     "metadata": {},
     "output_type": "execute_result"
    }
   ],
   "source": [
    "head(vehicle_theft_data)"
   ]
  },
  {
   "cell_type": "code",
   "execution_count": 10,
   "metadata": {
    "collapsed": false,
    "scrolled": true
   },
   "outputs": [
    {
     "data": {
      "text/plain": [
       "   IncidntNum                      Category   \n",
       " Min.   :100908578   VEHICLE THEFT     :1966  \n",
       " 1st Qu.:140531636   ARSON             :   0  \n",
       " Median :140592140   ASSAULT           :   0  \n",
       " Mean   :140576401   BRIBERY           :   0  \n",
       " 3rd Qu.:140664092   BURGLARY          :   0  \n",
       " Max.   :150081500   DISORDERLY CONDUCT:   0  \n",
       "                     (Other)           :   0  \n",
       "                         Descript        DayOfWeek           Date     \n",
       " STOLEN AUTOMOBILE           :1350   Friday   :297   06/27/2014:  38  \n",
       " STOLEN TRUCK                : 350   Monday   :288   06/25/2014:  36  \n",
       " STOLEN MOTORCYCLE           : 148   Saturday :281   06/28/2014:  36  \n",
       " STOLEN AND RECOVERED VEHICLE: 102   Sunday   :314   06/26/2014:  35  \n",
       " ATTEMPTED STOLEN VEHICLE    :  13   Thursday :270   06/29/2014:  35  \n",
       " STOLEN MISCELLANEOUS VEHICLE:   2   Tuesday  :225   06/30/2014:  29  \n",
       " (Other)                     :   1   Wednesday:291   (Other)   :1757  \n",
       "      Time          PdDistrict                             Resolution  \n",
       " 18:00  : 110   INGLESIDE:382   NONE                            :1834  \n",
       " 20:00  : 105   MISSION  :306   ARREST, BOOKED                  :  84  \n",
       " 19:00  :  99   BAYVIEW  :245   UNFOUNDED                       :  44  \n",
       " 22:00  :  95   TARAVAL  :222   ARREST, CITED                   :   1  \n",
       " 23:00  :  81   NORTHERN :202   COMPLAINANT REFUSES TO PROSECUTE:   1  \n",
       " 21:00  :  77   SOUTHERN :161   JUVENILE CITED                  :   1  \n",
       " (Other):1399   (Other)  :448   (Other)                         :   1  \n",
       "                     Address           X                Y        \n",
       " 400 Block of BEALE ST   :   5   Min.   :-122.5   Min.   :37.71  \n",
       " 0 Block of LAFAYETTE ST :   4   1st Qu.:-122.4   1st Qu.:37.73  \n",
       " 200 Block of ELLIS ST   :   4   Median :-122.4   Median :37.76  \n",
       " 400 Block of STOCKTON ST:   4   Mean   :-122.4   Mean   :37.76  \n",
       " 400 Block of WARREN DR  :   4   3rd Qu.:-122.4   3rd Qu.:37.78  \n",
       " 500 Block of JOHNMUIR DR:   4   Max.   :-122.4   Max.   :37.81  \n",
       " (Other)                 :1941                                   \n",
       "                                  Location         PdId          \n",
       " (37.7143615498756, -122.49206801734) :   4   Min.   :1.009e+13  \n",
       " (37.727426135786, -122.382690587869) :   4   1st Qu.:1.405e+13  \n",
       " (37.7580000655652, -122.462019901741):   4   Median :1.406e+13  \n",
       " (37.789918101686, -122.406977563692) :   4   Mean   :1.406e+13  \n",
       " (37.7093377378102, -122.437810276236):   3   3rd Qu.:1.407e+13  \n",
       " (37.7220486455317, -122.436867932617):   3   Max.   :1.501e+13  \n",
       " (Other)                              :1944                      "
      ]
     },
     "execution_count": 10,
     "metadata": {},
     "output_type": "execute_result"
    }
   ],
   "source": [
    "summary(vehicle_theft_data)"
   ]
  },
  {
   "cell_type": "markdown",
   "metadata": {},
   "source": [
    "### Confirm the number of rows in the dataset"
   ]
  },
  {
   "cell_type": "code",
   "execution_count": 11,
   "metadata": {
    "collapsed": false
   },
   "outputs": [
    {
     "data": {
      "text/html": [
       "1966"
      ],
      "text/latex": [
       "1966"
      ],
      "text/markdown": [
       "1966"
      ],
      "text/plain": [
       "[1] 1966"
      ]
     },
     "execution_count": 11,
     "metadata": {},
     "output_type": "execute_result"
    }
   ],
   "source": [
    "nrow(vehicle_theft_data)"
   ]
  },
  {
   "cell_type": "code",
   "execution_count": 13,
   "metadata": {
    "collapsed": false
   },
   "outputs": [
    {
     "name": "stdout",
     "output_type": "stream",
     "text": [
      "'data.frame':\t1966 obs. of  13 variables:\n",
      " $ IncidntNum: int  140738711 140735604 140738147 140736624 140735375 140734775 140735018 140734571 140736016 140736066 ...\n",
      " $ Category  : Factor w/ 34 levels \"ARSON\",\"ASSAULT\",..: 32 32 32 32 32 32 32 32 32 32 ...\n",
      " $ Descript  : Factor w/ 368 levels \"ABANDONMENT OF CHILD\",..: 315 311 314 311 311 311 311 311 311 311 ...\n",
      " $ DayOfWeek : Factor w/ 7 levels \"Friday\",\"Monday\",..: 4 4 4 4 4 4 4 4 4 4 ...\n",
      " $ Date      : Factor w/ 92 levels \"06/01/2014\",\"06/02/2014\",..: 92 92 92 92 92 92 92 92 92 92 ...\n",
      " $ Time      : Factor w/ 1379 levels \"00:01\",\"00:02\",..: 1321 1321 1321 1262 1262 1085 1085 1085 1085 1055 ...\n",
      " $ PdDistrict: Factor w/ 10 levels \"BAYVIEW\",\"CENTRAL\",..: 2 4 3 3 2 9 5 3 5 6 ...\n",
      " $ Resolution: Factor w/ 16 levels \"ARREST, BOOKED\",..: 12 12 12 12 12 12 12 12 12 12 ...\n",
      " $ Address   : Factor w/ 8055 levels \"0 Block of 10TH ST\",..: 5119 6341 1575 4042 7334 1833 1351 3682 5419 2577 ...\n",
      " $ X         : num  -122 -122 -122 -122 -122 ...\n",
      " $ Y         : num  37.8 37.7 37.7 37.7 37.8 ...\n",
      " $ Location  : Factor w/ 8732 levels \"(37.7080829769301, -122.419241455854)\",..: 6996 2609 2543 271 7428 3216 7331 2258 8410 3915 ...\n",
      " $ PdId      : num  1.41e+13 1.41e+13 1.41e+13 1.41e+13 1.41e+13 ...\n"
     ]
    }
   ],
   "source": [
    "str(vehicle_theft_data)"
   ]
  },
  {
   "cell_type": "markdown",
   "metadata": {},
   "source": [
    "### Create a new date that holds the Date as Date field not factory"
   ]
  },
  {
   "cell_type": "code",
   "execution_count": 14,
   "metadata": {
    "collapsed": true
   },
   "outputs": [],
   "source": [
    "vehicle_theft_data$newdate <- as.Date(as.character(vehicle_theft_data$Date), \"%m/%d/%Y\")"
   ]
  },
  {
   "cell_type": "code",
   "execution_count": 15,
   "metadata": {
    "collapsed": false,
    "scrolled": false
   },
   "outputs": [
    {
     "name": "stdout",
     "output_type": "stream",
     "text": [
      "'data.frame':\t1966 obs. of  14 variables:\n",
      " $ IncidntNum: int  140738711 140735604 140738147 140736624 140735375 140734775 140735018 140734571 140736016 140736066 ...\n",
      " $ Category  : Factor w/ 34 levels \"ARSON\",\"ASSAULT\",..: 32 32 32 32 32 32 32 32 32 32 ...\n",
      " $ Descript  : Factor w/ 368 levels \"ABANDONMENT OF CHILD\",..: 315 311 314 311 311 311 311 311 311 311 ...\n",
      " $ DayOfWeek : Factor w/ 7 levels \"Friday\",\"Monday\",..: 4 4 4 4 4 4 4 4 4 4 ...\n",
      " $ Date      : Factor w/ 92 levels \"06/01/2014\",\"06/02/2014\",..: 92 92 92 92 92 92 92 92 92 92 ...\n",
      " $ Time      : Factor w/ 1379 levels \"00:01\",\"00:02\",..: 1321 1321 1321 1262 1262 1085 1085 1085 1085 1055 ...\n",
      " $ PdDistrict: Factor w/ 10 levels \"BAYVIEW\",\"CENTRAL\",..: 2 4 3 3 2 9 5 3 5 6 ...\n",
      " $ Resolution: Factor w/ 16 levels \"ARREST, BOOKED\",..: 12 12 12 12 12 12 12 12 12 12 ...\n",
      " $ Address   : Factor w/ 8055 levels \"0 Block of 10TH ST\",..: 5119 6341 1575 4042 7334 1833 1351 3682 5419 2577 ...\n",
      " $ X         : num  -122 -122 -122 -122 -122 ...\n",
      " $ Y         : num  37.8 37.7 37.7 37.7 37.8 ...\n",
      " $ Location  : Factor w/ 8732 levels \"(37.7080829769301, -122.419241455854)\",..: 6996 2609 2543 271 7428 3216 7331 2258 8410 3915 ...\n",
      " $ PdId      : num  1.41e+13 1.41e+13 1.41e+13 1.41e+13 1.41e+13 ...\n",
      " $ newdate   : Date, format: \"2014-08-31\" \"2014-08-31\" ...\n"
     ]
    }
   ],
   "source": [
    "str(vehicle_theft_data)"
   ]
  },
  {
   "cell_type": "markdown",
   "metadata": {},
   "source": [
    "### Explore Daily trends time series data"
   ]
  },
  {
   "cell_type": "code",
   "execution_count": 18,
   "metadata": {
    "collapsed": true
   },
   "outputs": [],
   "source": [
    "library(scales)"
   ]
  },
  {
   "cell_type": "code",
   "execution_count": 21,
   "metadata": {
    "collapsed": true
   },
   "outputs": [],
   "source": [
    "vehicle_theft_data$newtime <- as.POSIXct(vehicle_theft_data$Time, format=\"%H:%M\")"
   ]
  },
  {
   "cell_type": "code",
   "execution_count": 25,
   "metadata": {
    "collapsed": true
   },
   "outputs": [],
   "source": [
    "vehicle_theft_data$TimeRange <- as.POSIXct(cut(vehicle_theft_data$newtime, breaks=\"hour\"))"
   ]
  },
  {
   "cell_type": "code",
   "execution_count": 27,
   "metadata": {
    "collapsed": true
   },
   "outputs": [],
   "source": [
    "library(ggplot2)\n"
   ]
  },
  {
   "cell_type": "code",
   "execution_count": 67,
   "metadata": {
    "collapsed": true
   },
   "outputs": [],
   "source": [
    "vehicle_theft_data$DayOfWeek <- factor(vehicle_theft_data$DayOfWeek, levels= c(\"Sunday\", \"Monday\", \"Tuesday\", \"Wednesday\", \"Thursday\", \"Friday\", \"Saturday\"))"
   ]
  },
  {
   "cell_type": "code",
   "execution_count": 68,
   "metadata": {
    "collapsed": true
   },
   "outputs": [],
   "source": [
    "byTimeRange <- ggplot(vehicle_theft_data, aes(TimeRange)) + geom_freqpoly(aes(group = DayOfWeek, color = DayOfWeek))"
   ]
  },
  {
   "cell_type": "code",
   "execution_count": 71,
   "metadata": {
    "collapsed": false,
    "scrolled": false
   },
   "outputs": [
    {
     "name": "stderr",
     "output_type": "stream",
     "text": [
      "stat_bin: binwidth defaulted to range/30. Use 'binwidth = x' to adjust this.\n"
     ]
    },
    {
     "data": {
      "image/png": "[encoded data removed]",
      "text/plain": [
       "plot without title"
      ]
     },
     "metadata": {
      "image/svg+xml": {
       "isolated": true
      }
     },
     "output_type": "display_data"
    }
   ],
   "source": [
    "byTimeRange + scale_x_datetime(labels = date_format(\"%H:%M\"), breaks = \"6 hours\") + ggtitle(\"Vehicle Theft Incidents Hourly Trends\")"
   ]
  },
  {
   "cell_type": "markdown",
   "metadata": {},
   "source": [
    "### Explore Vehicle Theft Monthly Trends"
   ]
  },
  {
   "cell_type": "code",
   "execution_count": 33,
   "metadata": {
    "collapsed": true
   },
   "outputs": [],
   "source": [
    "vehicle_theft_data$Month <- as.Date(cut(vehicle_theft_data$newdate, breaks = \"month\"))"
   ]
  },
  {
   "cell_type": "code",
   "execution_count": 42,
   "metadata": {
    "collapsed": false
   },
   "outputs": [],
   "source": [
    "byMonth <- ggplot(vehicle_theft_data, aes(Month, fill = Descript))"
   ]
  },
  {
   "cell_type": "code",
   "execution_count": 73,
   "metadata": {
    "collapsed": false
   },
   "outputs": [
    {
     "name": "stderr",
     "output_type": "stream",
     "text": [
      "stat_bin: binwidth defaulted to range/30. Use 'binwidth = x' to adjust this.\n"
     ]
    },
    {
     "data": {
      "image/png": "[encoded data removed]",
      "text/plain": [
       "plot without title"
      ]
     },
     "metadata": {
      "image/svg+xml": {
       "isolated": true
      }
     },
     "output_type": "display_data"
    }
   ],
   "source": [
    "byMonth + geom_bar() + ggtitle(\"Types of Monthly Vehicle Theft Incidents\")"
   ]
  },
  {
   "cell_type": "markdown",
   "metadata": {},
   "source": [
    "### Explore Thefts by Police District"
   ]
  },
  {
   "cell_type": "code",
   "execution_count": 76,
   "metadata": {
    "collapsed": false
   },
   "outputs": [],
   "source": [
    "byDistrict <- ggplot(vehicle_theft_data, aes(DayOfWeek, fill = PdDistrict))  + geom_bar(position=\"dodge\")\n"
   ]
  },
  {
   "cell_type": "code",
   "execution_count": 79,
   "metadata": {
    "collapsed": false,
    "scrolled": false
   },
   "outputs": [
    {
     "data": {
      "image/png": "[encoded data removed]",
      "text/plain": [
       "plot without title"
      ]
     },
     "metadata": {
      "image/svg+xml": {
       "isolated": true
      }
     },
     "output_type": "display_data"
    }
   ],
   "source": [
    "byDistrict + scale_x_discrete(limits=levels(vehicle_theft_data$DayOfWeek)) + ggtitle(\"Weekly Vehicle Theft Incidents by Neighborhood\")"
   ]
  },
  {
   "cell_type": "code",
   "execution_count": null,
   "metadata": {
    "collapsed": true
   },
   "outputs": [],
   "source": []
  }
 ],
 "metadata": {
  "kernelspec": {
   "display_name": "R",
   "language": "R",
   "name": "ir"
  },
  "language_info": {
   "codemirror_mode": "r",
   "file_extension": ".r",
   "mimetype": "text/x-r-source",
   "name": "R",
   "pygments_lexer": "r",
   "version": "3.1.3"
  }
 },
 "nbformat": 4,
 "nbformat_minor": 0
}
